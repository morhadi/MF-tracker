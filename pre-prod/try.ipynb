{
 "cells": [
  {
   "cell_type": "code",
   "execution_count": 10,
   "metadata": {},
   "outputs": [],
   "source": [
    "import pandas as pd\n",
    "\n",
    "# read excel file from this folder\n",
    "file1 = 'ZN250 - Monthly Portfolio September 2024.xlsx'\n",
    "file2 = 'ZN250 - Monthly Portfolio November 2024.xlsx'\n",
    "\n",
    "# skip first 3 rows\n",
    "df = pd.read_excel('ZN250 - Monthly Portfolio September 2024.xlsx' , skiprows=3 ) \n",
    "# isin should start with ine \n",
    "df = df[df['ISIN'].notna()]\n",
    "\n",
    "# 1. Convert the 'ISIN' column to string type \n",
    "df['ISIN'] = df['ISIN'].astype(str)\n",
    "df = df[df['ISIN'].str.startswith('INE')]\n",
    "# drop columns with all NaN values\n",
    "df = df.dropna(axis=1, how='all')\n",
    "\n",
    "#  set the 'ISIN' column as the index\n",
    "df = df.set_index('ISIN')"
   ]
  },
  {
   "cell_type": "code",
   "execution_count": 6,
   "metadata": {},
   "outputs": [
    {
     "data": {
      "text/plain": [
       "Index(['Name of the Instrument', 'ISIN', 'Rating / Industry^', 'Quantity',\n",
       "       'Market value\\n(Rs. in Lakhs)', '% to NAV'],\n",
       "      dtype='object')"
      ]
     },
     "execution_count": 6,
     "metadata": {},
     "output_type": "execute_result"
    }
   ],
   "source": [
    "df.columns"
   ]
  },
  {
   "cell_type": "code",
   "execution_count": 8,
   "metadata": {},
   "outputs": [],
   "source": [
    "# Convert '% to NAV' to Numeric\n",
    "df['% to NAV'] = pd.to_numeric(df['% to NAV'], errors='coerce') "
   ]
  },
  {
   "cell_type": "code",
   "execution_count": null,
   "metadata": {},
   "outputs": [],
   "source": []
  }
 ],
 "metadata": {
  "kernelspec": {
   "display_name": "base",
   "language": "python",
   "name": "python3"
  },
  "language_info": {
   "codemirror_mode": {
    "name": "ipython",
    "version": 3
   },
   "file_extension": ".py",
   "mimetype": "text/x-python",
   "name": "python",
   "nbconvert_exporter": "python",
   "pygments_lexer": "ipython3",
   "version": "3.11.5"
  }
 },
 "nbformat": 4,
 "nbformat_minor": 2
}
